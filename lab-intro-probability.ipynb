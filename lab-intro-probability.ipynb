{
 "cells": [
  {
   "cell_type": "markdown",
   "metadata": {},
   "source": [
    "**Objective**\n",
    "\n",
    "Welcome to this Intro to Probability lab, where we explore decision-making scenarios through the lens of probability and strategic analysis. In the business world, making informed decisions is crucial, especially when faced with uncertainties. This lab focuses on scenarios where probabilistic outcomes play a significant role in shaping strategies and outcomes. Students will engage in exercises that require assessing and choosing optimal paths based on data-driven insights. The goal is to enhance your skills by applying probability concepts to solve real-world problems."
   ]
  },
  {
   "cell_type": "markdown",
   "metadata": {},
   "source": [
    "**Challenge 1**"
   ]
  },
  {
   "cell_type": "markdown",
   "metadata": {},
   "source": [
    "#### Ironhack Airlines \n",
    "\n",
    "Often Airlines sell more tickets than they have seats available, this is called overbooking. Consider the following:\n",
    "- A plane has 450 seats. \n",
    "- Based on historical data we conclude that each individual passenger has a 3% chance of missing it's flight. \n",
    "\n",
    "If the Ironhack Airlines routinely sells 460 tickets, what is the chance that they have a seats for all passenger?"
   ]
  },
  {
   "cell_type": "code",
   "execution_count": 71,
   "metadata": {},
   "outputs": [],
   "source": [
    "from scipy.stats import binom\n",
    "import matplotlib.pyplot as plt\n",
    "import numpy as np"
   ]
  },
  {
   "cell_type": "code",
   "execution_count": 72,
   "metadata": {},
   "outputs": [
    {
     "name": "stdout",
     "output_type": "stream",
     "text": [
      "The chance is 88.45 % that they have exactly 450 Person on board/seated\n"
     ]
    }
   ],
   "source": [
    "#code here\n",
    "n = 460  # number of ticktes sold\n",
    "p = 0.97 # chance of showing up to the fligth\n",
    "\n",
    "binom_air = binom(n,p)\n",
    "binom_air.pmf(450) #exactly 450 get a seat prob ~7%\n",
    "\n",
    "print(f\"The chance is {round((binom_air.cdf(450))*100, 2)} % that they have exactly 450 Person on board/seated\")"
   ]
  },
  {
   "cell_type": "code",
   "execution_count": 73,
   "metadata": {},
   "outputs": [
    {
     "name": "stdout",
     "output_type": "stream",
     "text": [
      "The chance is 88.45 % that they have a seat for all 450 passenger\n",
      "The chance is 11.55 % that a person cant get a seat \n"
     ]
    }
   ],
   "source": [
    "binom_air.cdf(450) # the chance ist 88,44% that they have a seats for all passenger // or 1-0.8844=0.1155 ~ 11,55% is the chance that a person can not enter the plane\n",
    "\n",
    "\n",
    "print(f\"The chance is {round((binom_air.cdf(450))*100, 2)} % that they have a seat for all 450 passenger\")\n",
    "\n",
    "print(f\"The chance is {round((1 - binom_air.cdf(450))*100, 2)} % that a person cant get a seat \")\n",
    "\n",
    "\n",
    "\n",
    "# binom_air.pmf(451) + binom_air.pmf(452) + binom_air.pmf(453) + binom_air.pmf(454) + binom_air.pmf(455) +binom_air.pmf(456) + binom_air.pmf(457) + binom_air.pmf(458) + binom_air.pmf(459) + binom_air.pmf(460)"
   ]
  },
  {
   "cell_type": "code",
   "execution_count": 74,
   "metadata": {},
   "outputs": [
    {
     "data": {
      "image/png": "[encoded data removed]",
      "text/plain": [
       "<Figure size 640x480 with 1 Axes>"
      ]
     },
     "metadata": {},
     "output_type": "display_data"
    }
   ],
   "source": [
    "X = np.arange(0,460)\n",
    "\n",
    "plt.bar(X, binom_air.pmf(X))\n",
    "plt.xticks(X)\n",
    "plt.show()"
   ]
  },
  {
   "cell_type": "markdown",
   "metadata": {},
   "source": [
    "**Challenge 2**"
   ]
  },
  {
   "cell_type": "markdown",
   "metadata": {},
   "source": [
    "#### Ironhack Call Center "
   ]
  },
  {
   "cell_type": "markdown",
   "metadata": {},
   "source": [
    "Suppose a customer service representative at a call center is handling customer complaints. Consider the following:\n",
    "- The probability of successfully resolving a customer complaint on the first attempt is 0.3. \n",
    "\n",
    "\n",
    "What is the probability that the representative needs to make at least three attempts before successfully resolving a customer complaint?"
   ]
  },
  {
   "cell_type": "code",
   "execution_count": 75,
   "metadata": {},
   "outputs": [
    {
     "name": "stdout",
     "output_type": "stream",
     "text": [
      "The probability is 14.7 % that he solve the complain exactly with the 3rd attemp\n"
     ]
    }
   ],
   "source": [
    "#code here\n",
    "from scipy.stats import geom\n",
    "\n",
    "p = 0.30\n",
    "\n",
    "geom_dist = geom(p)\n",
    "\n",
    "geom_dist.pmf(3) #exactly on the 3rd attemp he will solve the complain with a prob of 14,7%\n",
    "\n",
    "print(f\"The probability is {round((geom_dist.pmf(3))*100, 2)} % that he solve the complain exactly with the 3rd attemp\")"
   ]
  },
  {
   "cell_type": "code",
   "execution_count": 76,
   "metadata": {},
   "outputs": [
    {
     "name": "stdout",
     "output_type": "stream",
     "text": [
      "The probability is 65.7 % that he solve the complain within the first 3 attemps\n"
     ]
    }
   ],
   "source": [
    "geom_dist.cdf(3) # the prob is 65,7% that he solve the complain within the first 3 attemps\n",
    "\n",
    "print(f\"The probability is {round((geom_dist.cdf(3))*100, 2)} % that he solve the complain within the first 3 attemps\")"
   ]
  },
  {
   "cell_type": "code",
   "execution_count": 77,
   "metadata": {},
   "outputs": [
    {
     "name": "stdout",
     "output_type": "stream",
     "text": [
      "The probability that he needs at least 3 attemps is 34.3 % to solve the complain\n"
     ]
    }
   ],
   "source": [
    "1- geom_dist.cdf(3) # the prob that he needs at least 3 attemps is 34,3% to solve the complain\n",
    "\n",
    "print(f\"The probability that he needs at least 3 attemps is {round((1- geom_dist.cdf(3))*100, 2)} % to solve the complain\")"
   ]
  },
  {
   "cell_type": "markdown",
   "metadata": {},
   "source": [
    "**Challenge 3**"
   ]
  },
  {
   "cell_type": "markdown",
   "metadata": {},
   "source": [
    "#### Ironhack Website"
   ]
  },
  {
   "cell_type": "markdown",
   "metadata": {},
   "source": [
    "Consider a scenario related to Ironhack website traffic. Where:\n",
    "- our website takes on average 500 visits per hour.\n",
    "- the website's server is designed to handle up to 550 vists per hour.\n",
    "\n",
    "\n",
    "What is the probability of the website server being overwhelmed?"
   ]
  },
  {
   "cell_type": "code",
   "execution_count": 78,
   "metadata": {},
   "outputs": [
    {
     "name": "stdout",
     "output_type": "stream",
     "text": [
      "the probability that the server will be overwhelmed in one hour is 1.29 %\n"
     ]
    }
   ],
   "source": [
    "#code here\n",
    "\n",
    "from scipy.stats import poisson\n",
    "\n",
    "mu = 500 # expectation per timefram (hour)\n",
    "\n",
    "poisson_dist = poisson(mu)\n",
    "\n",
    "1- poisson_dist.cdf(550)  # more than 550 vistist per our (with pmf = excatly 550)\n",
    "\n",
    "print(f\"the probability that the server will be overwhelmed in one hour is {round((1- poisson_dist.cdf(550))*100, 2)} %\")"
   ]
  },
  {
   "cell_type": "markdown",
   "metadata": {},
   "source": [
    "What is the probability of being overwhelmed at some point during a day? (consider 24hours)"
   ]
  },
  {
   "cell_type": "code",
   "execution_count": 79,
   "metadata": {},
   "outputs": [
    {
     "name": "stdout",
     "output_type": "stream",
     "text": [
      "The probability of being overwhelmed during the 24 hours is 32.2 %\n"
     ]
    }
   ],
   "source": [
    "#code here\n",
    "mu = 12000 # for 24hours\n",
    "poisson_dist_2 = poisson(mu)\n",
    "\n",
    "1 - poisson_dist_2.cdf(12050)\n",
    "\n",
    "print(f\"The probability of being overwhelmed during the 24 hours is {round((1 - poisson_dist_2.cdf(12050))*100, 2)} %\")"
   ]
  },
  {
   "cell_type": "markdown",
   "metadata": {},
   "source": [
    "**Challenge 4**"
   ]
  },
  {
   "cell_type": "markdown",
   "metadata": {},
   "source": [
    "#### Ironhack Helpdesk"
   ]
  },
  {
   "cell_type": "markdown",
   "metadata": {},
   "source": [
    "Consider a scenario related to the time between arrivals of customers at a service desk.\n",
    "\n",
    "On average, a customers arrives every 10minutes.\n",
    "\n",
    "What is the probability that the next customer will arrive within the next 5 minutes?"
   ]
  },
  {
   "cell_type": "code",
   "execution_count": 80,
   "metadata": {},
   "outputs": [
    {
     "name": "stdout",
     "output_type": "stream",
     "text": [
      "# The probability that a customer arrives in the next 5 minutes is 39.35 %\n"
     ]
    }
   ],
   "source": [
    "from scipy.stats import expon\n",
    "\n",
    "mu = 10 \n",
    "\n",
    "expon_dist = expon(scale = mu)\n",
    "\n",
    "expon_dist.cdf(5)\n",
    "\n",
    "print(f\"# The probability that a customer arrives in the next 5 minutes is {round((expon_dist.cdf(5))*100, 2)} %\")"
   ]
  },
  {
   "cell_type": "markdown",
   "metadata": {},
   "source": [
    "If there is no customer for 15minutes, employees can that a 5minutes break.\n",
    "\n",
    "What is the probability an employee taking a break?"
   ]
  },
  {
   "cell_type": "code",
   "execution_count": 81,
   "metadata": {},
   "outputs": [
    {
     "name": "stdout",
     "output_type": "stream",
     "text": [
      "The probability that a employee can take a 5 minute break is 22.31 %\n"
     ]
    }
   ],
   "source": [
    "mu = 10 \n",
    "\n",
    "expon_dist = expon(scale = mu)\n",
    "1- expon_dist.cdf(15)\n",
    "\n",
    "print(f\"The probability that a employee can take a 5 minute break is {round((1- expon_dist.cdf(15))*100, 2)} %\")"
   ]
  },
  {
   "cell_type": "markdown",
   "metadata": {},
   "source": [
    "**Challenge 5**"
   ]
  },
  {
   "cell_type": "markdown",
   "metadata": {},
   "source": [
    "The weights of a certain species of birds follow a normal distribution with a mean weight of 150 grams and a standard deviation of 10 grams. \n",
    "\n",
    "- If we randomly select a bird, what is the probability that its weight is between 140 and 160 grams?"
   ]
  },
  {
   "cell_type": "code",
   "execution_count": 84,
   "metadata": {},
   "outputs": [
    {
     "name": "stdout",
     "output_type": "stream",
     "text": [
      "The probability that the weight of a randomly selected bird is between 140 and 160 grams is 68.27 %\n"
     ]
    }
   ],
   "source": [
    "from scipy.stats import norm\n",
    "\n",
    "mean = 150\n",
    "std = 10\n",
    "\n",
    "norm_dist = norm(loc = mean, scale = std)\n",
    "\n",
    "print(f\"The probability that the weight of a randomly selected bird is between 140 and 160 grams is {round((norm_dist.cdf(160) - norm_dist.cdf(140))*100, 2)} %\")"
   ]
  },
  {
   "cell_type": "markdown",
   "metadata": {},
   "source": [
    "**Challenge 6**"
   ]
  },
  {
   "cell_type": "markdown",
   "metadata": {},
   "source": [
    "If the lifetime (in hours) of a certain electronic component follows an exponential distribution with a mean lifetime of 50 hours, what is the probability that the component fails within the first 30 hours?"
   ]
  },
  {
   "cell_type": "code",
   "execution_count": 91,
   "metadata": {},
   "outputs": [
    {
     "name": "stdout",
     "output_type": "stream",
     "text": [
      "The probability that the component fails within the first 30 hours is 45.12 %\n"
     ]
    }
   ],
   "source": [
    "from scipy.stats import expon\n",
    "\n",
    "mu = 50\n",
    "\n",
    "expon_dist = expon(scale = mu)\n",
    "expon_dist.cdf(30)\n",
    "\n",
    "print(f\"The probability that the component fails within the first 30 hours is {round((expon_dist.cdf(30))*100, 2)} %\")"
   ]
  }
 ],
 "metadata": {
  "kernelspec": {
   "display_name": "base",
   "language": "python",
   "name": "python3"
  },
  "language_info": {
   "codemirror_mode": {
    "name": "ipython",
    "version": 3
   },
   "file_extension": ".py",
   "mimetype": "text/x-python",
   "name": "python",
   "nbconvert_exporter": "python",
   "pygments_lexer": "ipython3",
   "version": "3.12.7"
  }
 },
 "nbformat": 4,
 "nbformat_minor": 2
}
